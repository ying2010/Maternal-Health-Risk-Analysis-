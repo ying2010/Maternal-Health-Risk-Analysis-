{
 "cells": [
  {
   "cell_type": "code",
   "execution_count": 14,
   "id": "9e7c1e01",
   "metadata": {},
   "outputs": [],
   "source": [
    "import pandas as pd\n",
    "import seaborn as sns\n",
    "import numpy as np\n",
    "from sklearn.model_selection import train_test_split\n",
    "from sklearn.preprocessing import StandardScaler\n",
    "from sklearn.metrics import confusion_matrix, accuracy_score\n",
    "from sklearn.metrics import classification_report\n",
    "from sklearn.model_selection import train_test_split\n",
    "from sklearn.linear_model import LogisticRegression\n",
    "from sklearn.metrics import accuracy_score"
   ]
  },
  {
   "cell_type": "code",
   "execution_count": 2,
   "id": "ec1bcb1f",
   "metadata": {},
   "outputs": [],
   "source": [
    "maternal_risk_df = pd.read_csv('maternal_health_risk.csv')"
   ]
  },
  {
   "cell_type": "code",
   "execution_count": 3,
   "id": "73928fab",
   "metadata": {},
   "outputs": [
    {
     "data": {
      "text/html": [
       "<div>\n",
       "<style scoped>\n",
       "    .dataframe tbody tr th:only-of-type {\n",
       "        vertical-align: middle;\n",
       "    }\n",
       "\n",
       "    .dataframe tbody tr th {\n",
       "        vertical-align: top;\n",
       "    }\n",
       "\n",
       "    .dataframe thead th {\n",
       "        text-align: right;\n",
       "    }\n",
       "</style>\n",
       "<table border=\"1\" class=\"dataframe\">\n",
       "  <thead>\n",
       "    <tr style=\"text-align: right;\">\n",
       "      <th></th>\n",
       "      <th>Age</th>\n",
       "      <th>SystolicBP</th>\n",
       "      <th>DiastolicBP</th>\n",
       "      <th>BloodGlucose</th>\n",
       "      <th>BodyTemp</th>\n",
       "      <th>HeartRate</th>\n",
       "      <th>RiskLevel</th>\n",
       "    </tr>\n",
       "  </thead>\n",
       "  <tbody>\n",
       "    <tr>\n",
       "      <th>0</th>\n",
       "      <td>25</td>\n",
       "      <td>130</td>\n",
       "      <td>80</td>\n",
       "      <td>15.0</td>\n",
       "      <td>98.0</td>\n",
       "      <td>86</td>\n",
       "      <td>3</td>\n",
       "    </tr>\n",
       "    <tr>\n",
       "      <th>1</th>\n",
       "      <td>35</td>\n",
       "      <td>140</td>\n",
       "      <td>90</td>\n",
       "      <td>13.0</td>\n",
       "      <td>98.0</td>\n",
       "      <td>70</td>\n",
       "      <td>3</td>\n",
       "    </tr>\n",
       "    <tr>\n",
       "      <th>2</th>\n",
       "      <td>29</td>\n",
       "      <td>90</td>\n",
       "      <td>70</td>\n",
       "      <td>8.0</td>\n",
       "      <td>100.0</td>\n",
       "      <td>80</td>\n",
       "      <td>3</td>\n",
       "    </tr>\n",
       "    <tr>\n",
       "      <th>3</th>\n",
       "      <td>30</td>\n",
       "      <td>140</td>\n",
       "      <td>85</td>\n",
       "      <td>7.0</td>\n",
       "      <td>98.0</td>\n",
       "      <td>70</td>\n",
       "      <td>3</td>\n",
       "    </tr>\n",
       "    <tr>\n",
       "      <th>4</th>\n",
       "      <td>35</td>\n",
       "      <td>120</td>\n",
       "      <td>60</td>\n",
       "      <td>6.1</td>\n",
       "      <td>98.0</td>\n",
       "      <td>76</td>\n",
       "      <td>1</td>\n",
       "    </tr>\n",
       "  </tbody>\n",
       "</table>\n",
       "</div>"
      ],
      "text/plain": [
       "   Age  SystolicBP  DiastolicBP  BloodGlucose  BodyTemp  HeartRate  RiskLevel\n",
       "0   25         130           80          15.0      98.0         86          3\n",
       "1   35         140           90          13.0      98.0         70          3\n",
       "2   29          90           70           8.0     100.0         80          3\n",
       "3   30         140           85           7.0      98.0         70          3\n",
       "4   35         120           60           6.1      98.0         76          1"
      ]
     },
     "execution_count": 3,
     "metadata": {},
     "output_type": "execute_result"
    }
   ],
   "source": [
    "maternal_risk_df.head()"
   ]
  },
  {
   "cell_type": "code",
   "execution_count": 4,
   "id": "bdc77ecf",
   "metadata": {},
   "outputs": [
    {
     "data": {
      "text/plain": [
       "<bound method NDFrame.tail of       Age  SystolicBP  DiastolicBP  BloodGlucose  BodyTemp  HeartRate  \\\n",
       "0      25         130           80          15.0      98.0         86   \n",
       "1      35         140           90          13.0      98.0         70   \n",
       "2      29          90           70           8.0     100.0         80   \n",
       "3      30         140           85           7.0      98.0         70   \n",
       "4      35         120           60           6.1      98.0         76   \n",
       "...   ...         ...          ...           ...       ...        ...   \n",
       "1009   22         120           60          15.0      98.0         80   \n",
       "1010   55         120           90          18.0      98.0         60   \n",
       "1011   35          85           60          19.0      98.0         86   \n",
       "1012   43         120           90          18.0      98.0         70   \n",
       "1013   32         120           65           6.0     101.0         76   \n",
       "\n",
       "     RiskLevel  \n",
       "0         high  \n",
       "1         high  \n",
       "2         high  \n",
       "3         high  \n",
       "4          low  \n",
       "...        ...  \n",
       "1009      high  \n",
       "1010      high  \n",
       "1011      high  \n",
       "1012      high  \n",
       "1013       mid  \n",
       "\n",
       "[1014 rows x 7 columns]>"
      ]
     },
     "execution_count": 4,
     "metadata": {},
     "output_type": "execute_result"
    }
   ],
   "source": [
    "maternal_risk_df.tail"
   ]
  },
  {
   "cell_type": "code",
   "execution_count": 75,
   "id": "0dc3fa02",
   "metadata": {},
   "outputs": [
    {
     "data": {
      "text/plain": [
       "<bound method DataFrame.info of       Age  SystolicBP  DiastolicBP  BloodGlucose  BodyTemp  HeartRate  \\\n",
       "0      25         130           80          15.0      98.0         86   \n",
       "1      35         140           90          13.0      98.0         70   \n",
       "2      29          90           70           8.0     100.0         80   \n",
       "3      30         140           85           7.0      98.0         70   \n",
       "4      35         120           60           6.1      98.0         76   \n",
       "...   ...         ...          ...           ...       ...        ...   \n",
       "1009   22         120           60          15.0      98.0         80   \n",
       "1010   55         120           90          18.0      98.0         60   \n",
       "1011   35          85           60          19.0      98.0         86   \n",
       "1012   43         120           90          18.0      98.0         70   \n",
       "1013   32         120           65           6.0     101.0         76   \n",
       "\n",
       "      RiskLevel  \n",
       "0             3  \n",
       "1             3  \n",
       "2             3  \n",
       "3             3  \n",
       "4             1  \n",
       "...         ...  \n",
       "1009          3  \n",
       "1010          3  \n",
       "1011          3  \n",
       "1012          3  \n",
       "1013          2  \n",
       "\n",
       "[1014 rows x 7 columns]>"
      ]
     },
     "execution_count": 75,
     "metadata": {},
     "output_type": "execute_result"
    }
   ],
   "source": [
    "maternal_risk_df.info"
   ]
  },
  {
   "cell_type": "code",
   "execution_count": 76,
   "id": "d1a861c1",
   "metadata": {},
   "outputs": [
    {
     "data": {
      "text/plain": [
       "Age               int64\n",
       "SystolicBP        int64\n",
       "DiastolicBP       int64\n",
       "BloodGlucose    float64\n",
       "BodyTemp        float64\n",
       "HeartRate         int64\n",
       "RiskLevel         int64\n",
       "dtype: object"
      ]
     },
     "execution_count": 76,
     "metadata": {},
     "output_type": "execute_result"
    }
   ],
   "source": [
    "maternal_risk_df.dtypes"
   ]
  },
  {
   "cell_type": "code",
   "execution_count": 77,
   "id": "feb61aea",
   "metadata": {},
   "outputs": [
    {
     "data": {
      "text/plain": [
       "(1014, 7)"
      ]
     },
     "execution_count": 77,
     "metadata": {},
     "output_type": "execute_result"
    }
   ],
   "source": [
    "maternal_risk_df.shape"
   ]
  },
  {
   "cell_type": "code",
   "execution_count": 78,
   "id": "ac9fe67d",
   "metadata": {},
   "outputs": [
    {
     "data": {
      "text/plain": [
       "Age             0\n",
       "SystolicBP      0\n",
       "DiastolicBP     0\n",
       "BloodGlucose    0\n",
       "BodyTemp        0\n",
       "HeartRate       0\n",
       "RiskLevel       0\n",
       "dtype: int64"
      ]
     },
     "execution_count": 78,
     "metadata": {},
     "output_type": "execute_result"
    }
   ],
   "source": [
    "# check null value\n",
    "maternal_risk_df.isnull().sum()"
   ]
  },
  {
   "cell_type": "code",
   "execution_count": 79,
   "id": "24b4e4ad",
   "metadata": {},
   "outputs": [],
   "source": [
    "# check duplicate value\n",
    "duplicate= maternal_risk_df.duplicated().any()"
   ]
  },
  {
   "cell_type": "code",
   "execution_count": 80,
   "id": "f6d7ac00",
   "metadata": {},
   "outputs": [
    {
     "data": {
      "text/plain": [
       "True"
      ]
     },
     "execution_count": 80,
     "metadata": {},
     "output_type": "execute_result"
    }
   ],
   "source": [
    "duplicate"
   ]
  },
  {
   "cell_type": "code",
   "execution_count": 81,
   "id": "b30142c9",
   "metadata": {},
   "outputs": [],
   "source": [
    "maternal_risk_df = maternal_risk_df. drop_duplicates() "
   ]
  },
  {
   "cell_type": "code",
   "execution_count": 82,
   "id": "3db6aa43",
   "metadata": {},
   "outputs": [],
   "source": [
    "duplicate= maternal_risk_df.duplicated().any()"
   ]
  },
  {
   "cell_type": "code",
   "execution_count": 83,
   "id": "e139bf98",
   "metadata": {},
   "outputs": [
    {
     "data": {
      "text/plain": [
       "False"
      ]
     },
     "execution_count": 83,
     "metadata": {},
     "output_type": "execute_result"
    }
   ],
   "source": [
    "duplicate"
   ]
  },
  {
   "cell_type": "code",
   "execution_count": 84,
   "id": "44048c9a",
   "metadata": {},
   "outputs": [],
   "source": [
    "# np.unique is the function that used to find the unique elements of an array.\n",
    "# find the columns which contain less than or equal to 10 distinct values \n",
    "# define two lists\n",
    "ca_val=[]\n",
    "co_val=[]\n",
    "\n",
    "# for loop to check every column in the data set to see which columns have more than 10 attributes which go to co_val[], then will send to ca_val[]\n",
    "for column in maternal_risk_df.columns:\n",
    "    if maternal_risk_df [column]. nunique() <= 10:\n",
    "        ca_val.append(column)\n",
    "    else:\n",
    "        co_val.append(column)"
   ]
  },
  {
   "cell_type": "code",
   "execution_count": 85,
   "id": "f58adb39",
   "metadata": {},
   "outputs": [
    {
     "data": {
      "text/plain": [
       "['BodyTemp', 'RiskLevel']"
      ]
     },
     "execution_count": 85,
     "metadata": {},
     "output_type": "execute_result"
    }
   ],
   "source": [
    "# return the categorical data\n",
    "ca_val"
   ]
  },
  {
   "cell_type": "code",
   "execution_count": 86,
   "id": "5b0c210c",
   "metadata": {},
   "outputs": [
    {
     "data": {
      "text/plain": [
       "array([ 98. , 100. , 102. , 101. , 103. ,  98.4,  99. ,  98.6])"
      ]
     },
     "execution_count": 86,
     "metadata": {},
     "output_type": "execute_result"
    }
   ],
   "source": [
    "# display the distict arributes in each column(array) which contain categorical data\n",
    "maternal_risk_df['BodyTemp'].unique()"
   ]
  },
  {
   "cell_type": "code",
   "execution_count": 87,
   "id": "fd7b0c76",
   "metadata": {},
   "outputs": [
    {
     "data": {
      "text/plain": [
       "array([3, 1, 2], dtype=int64)"
      ]
     },
     "execution_count": 87,
     "metadata": {},
     "output_type": "execute_result"
    }
   ],
   "source": [
    "maternal_risk_df['RiskLevel'].unique()"
   ]
  },
  {
   "cell_type": "code",
   "execution_count": 88,
   "id": "89636f96",
   "metadata": {},
   "outputs": [
    {
     "data": {
      "text/plain": [
       "['Age', 'SystolicBP', 'DiastolicBP', 'BloodGlucose', 'HeartRate']"
      ]
     },
     "execution_count": 88,
     "metadata": {},
     "output_type": "execute_result"
    }
   ],
   "source": [
    "co_val"
   ]
  },
  {
   "cell_type": "code",
   "execution_count": 89,
   "id": "0ff8b9ea",
   "metadata": {},
   "outputs": [
    {
     "data": {
      "text/plain": [
       "array([25, 35, 29, 30, 23, 32, 42, 19, 20, 48, 15, 50, 10, 40, 21, 18, 16,\n",
       "       22, 49, 28, 12, 60, 55, 45, 31, 17, 26, 54, 44, 33, 13, 34, 38, 39,\n",
       "       63, 14, 37, 51, 62, 43, 65, 66, 56, 70, 27, 36, 59, 24, 41, 46],\n",
       "      dtype=int64)"
      ]
     },
     "execution_count": 89,
     "metadata": {},
     "output_type": "execute_result"
    }
   ],
   "source": [
    "maternal_risk_df['Age'].unique()"
   ]
  },
  {
   "cell_type": "code",
   "execution_count": 90,
   "id": "29272db3",
   "metadata": {},
   "outputs": [
    {
     "data": {
      "text/plain": [
       "array([130, 140,  90, 120,  85, 110,  70, 100,  75,  95,  76,  80, 115,\n",
       "       135, 160, 129,  83,  99,  78], dtype=int64)"
      ]
     },
     "execution_count": 90,
     "metadata": {},
     "output_type": "execute_result"
    }
   ],
   "source": [
    "maternal_risk_df['SystolicBP'].unique()"
   ]
  },
  {
   "cell_type": "code",
   "execution_count": 91,
   "id": "65428a02",
   "metadata": {},
   "outputs": [
    {
     "data": {
      "text/plain": [
       "array([ 80,  90,  70,  85,  60,  89,  75, 100,  50,  65,  95,  49,  63,\n",
       "        69,  76,  68], dtype=int64)"
      ]
     },
     "execution_count": 91,
     "metadata": {},
     "output_type": "execute_result"
    }
   ],
   "source": [
    "maternal_risk_df['DiastolicBP'].unique()"
   ]
  },
  {
   "cell_type": "code",
   "execution_count": 92,
   "id": "c8a9cac4",
   "metadata": {},
   "outputs": [
    {
     "data": {
      "text/plain": [
       "array([15.  , 13.  ,  8.  ,  7.  ,  6.1 ,  7.01, 11.  ,  6.9 , 18.  ,\n",
       "        6.7 ,  7.5 ,  7.2 ,  7.1 ,  6.4 ,  9.  ,  6.  ,  7.7 , 12.  ,\n",
       "       16.  ,  7.8 ,  6.8 ,  7.9 , 17.  , 19.  , 10.  ,  6.3 ,  6.6 ,\n",
       "        6.5 ,  7.6 ])"
      ]
     },
     "execution_count": 92,
     "metadata": {},
     "output_type": "execute_result"
    }
   ],
   "source": [
    "maternal_risk_df['BloodGlucose'].unique()"
   ]
  },
  {
   "cell_type": "code",
   "execution_count": 93,
   "id": "ebf97030",
   "metadata": {},
   "outputs": [
    {
     "data": {
      "text/plain": [
       "array([86, 70, 80, 76, 78, 77, 88, 90, 66, 82, 60, 75, 67, 65, 68,  7],\n",
       "      dtype=int64)"
      ]
     },
     "execution_count": 93,
     "metadata": {},
     "output_type": "execute_result"
    }
   ],
   "source": [
    "maternal_risk_df['HeartRate'].unique()"
   ]
  },
  {
   "cell_type": "code",
   "execution_count": 72,
   "id": "89226afb",
   "metadata": {},
   "outputs": [],
   "source": [
    "# did converting low,mid,high to 1,2,3 in the excel, then ignore this step here"
   ]
  },
  {
   "cell_type": "code",
   "execution_count": 94,
   "id": "48671369",
   "metadata": {},
   "outputs": [
    {
     "data": {
      "text/html": [
       "<div>\n",
       "<style scoped>\n",
       "    .dataframe tbody tr th:only-of-type {\n",
       "        vertical-align: middle;\n",
       "    }\n",
       "\n",
       "    .dataframe tbody tr th {\n",
       "        vertical-align: top;\n",
       "    }\n",
       "\n",
       "    .dataframe thead th {\n",
       "        text-align: right;\n",
       "    }\n",
       "</style>\n",
       "<table border=\"1\" class=\"dataframe\">\n",
       "  <thead>\n",
       "    <tr style=\"text-align: right;\">\n",
       "      <th></th>\n",
       "      <th>Age</th>\n",
       "      <th>SystolicBP</th>\n",
       "      <th>DiastolicBP</th>\n",
       "      <th>BloodGlucose</th>\n",
       "      <th>BodyTemp</th>\n",
       "      <th>HeartRate</th>\n",
       "      <th>RiskLevel</th>\n",
       "    </tr>\n",
       "  </thead>\n",
       "  <tbody>\n",
       "    <tr>\n",
       "      <th>0</th>\n",
       "      <td>25</td>\n",
       "      <td>130</td>\n",
       "      <td>80</td>\n",
       "      <td>15.0</td>\n",
       "      <td>98.0</td>\n",
       "      <td>86</td>\n",
       "      <td>3</td>\n",
       "    </tr>\n",
       "    <tr>\n",
       "      <th>1</th>\n",
       "      <td>35</td>\n",
       "      <td>140</td>\n",
       "      <td>90</td>\n",
       "      <td>13.0</td>\n",
       "      <td>98.0</td>\n",
       "      <td>70</td>\n",
       "      <td>3</td>\n",
       "    </tr>\n",
       "    <tr>\n",
       "      <th>2</th>\n",
       "      <td>29</td>\n",
       "      <td>90</td>\n",
       "      <td>70</td>\n",
       "      <td>8.0</td>\n",
       "      <td>100.0</td>\n",
       "      <td>80</td>\n",
       "      <td>3</td>\n",
       "    </tr>\n",
       "    <tr>\n",
       "      <th>3</th>\n",
       "      <td>30</td>\n",
       "      <td>140</td>\n",
       "      <td>85</td>\n",
       "      <td>7.0</td>\n",
       "      <td>98.0</td>\n",
       "      <td>70</td>\n",
       "      <td>3</td>\n",
       "    </tr>\n",
       "    <tr>\n",
       "      <th>4</th>\n",
       "      <td>35</td>\n",
       "      <td>120</td>\n",
       "      <td>60</td>\n",
       "      <td>6.1</td>\n",
       "      <td>98.0</td>\n",
       "      <td>76</td>\n",
       "      <td>1</td>\n",
       "    </tr>\n",
       "  </tbody>\n",
       "</table>\n",
       "</div>"
      ],
      "text/plain": [
       "   Age  SystolicBP  DiastolicBP  BloodGlucose  BodyTemp  HeartRate  RiskLevel\n",
       "0   25         130           80          15.0      98.0         86          3\n",
       "1   35         140           90          13.0      98.0         70          3\n",
       "2   29          90           70           8.0     100.0         80          3\n",
       "3   30         140           85           7.0      98.0         70          3\n",
       "4   35         120           60           6.1      98.0         76          1"
      ]
     },
     "execution_count": 94,
     "metadata": {},
     "output_type": "execute_result"
    }
   ],
   "source": [
    "#see the data \n",
    "maternal_risk_df.head()"
   ]
  },
  {
   "cell_type": "code",
   "execution_count": 7,
   "id": "9135b284",
   "metadata": {},
   "outputs": [
    {
     "data": {
      "text/plain": [
       "<AxesSubplot:xlabel='RiskLevel', ylabel='count'>"
      ]
     },
     "execution_count": 7,
     "metadata": {},
     "output_type": "execute_result"
    },
    {
     "data": {
      "image/png": "[encoded data removed]",
      "text/plain": [
       "<Figure size 432x288 with 1 Axes>"
      ]
     },
     "metadata": {
      "needs_background": "light"
     },
     "output_type": "display_data"
    }
   ],
   "source": [
    "# count the risklevel\n",
    "sns.countplot(x='RiskLevel', data= maternal_risk_df)"
   ]
  },
  {
   "cell_type": "code",
   "execution_count": 97,
   "id": "36ba3973",
   "metadata": {},
   "outputs": [
    {
     "data": {
      "text/plain": [
       "1    234\n",
       "3    112\n",
       "2    106\n",
       "Name: RiskLevel, dtype: int64"
      ]
     },
     "execution_count": 97,
     "metadata": {},
     "output_type": "execute_result"
    }
   ],
   "source": [
    "maternal_risk_df['RiskLevel'].value_counts()"
   ]
  },
  {
   "cell_type": "code",
   "execution_count": 98,
   "id": "7154e7f0",
   "metadata": {},
   "outputs": [
    {
     "data": {
      "text/html": [
       "<div>\n",
       "<style scoped>\n",
       "    .dataframe tbody tr th:only-of-type {\n",
       "        vertical-align: middle;\n",
       "    }\n",
       "\n",
       "    .dataframe tbody tr th {\n",
       "        vertical-align: top;\n",
       "    }\n",
       "\n",
       "    .dataframe thead th {\n",
       "        text-align: right;\n",
       "    }\n",
       "</style>\n",
       "<table border=\"1\" class=\"dataframe\">\n",
       "  <thead>\n",
       "    <tr style=\"text-align: right;\">\n",
       "      <th></th>\n",
       "      <th>Age</th>\n",
       "      <th>SystolicBP</th>\n",
       "      <th>DiastolicBP</th>\n",
       "      <th>BloodGlucose</th>\n",
       "      <th>BodyTemp</th>\n",
       "      <th>HeartRate</th>\n",
       "      <th>RiskLevel</th>\n",
       "    </tr>\n",
       "  </thead>\n",
       "  <tbody>\n",
       "    <tr>\n",
       "      <th>count</th>\n",
       "      <td>452.000000</td>\n",
       "      <td>452.000000</td>\n",
       "      <td>452.000000</td>\n",
       "      <td>452.000000</td>\n",
       "      <td>452.000000</td>\n",
       "      <td>452.000000</td>\n",
       "      <td>452.000000</td>\n",
       "    </tr>\n",
       "    <tr>\n",
       "      <th>mean</th>\n",
       "      <td>29.194690</td>\n",
       "      <td>110.553097</td>\n",
       "      <td>75.418142</td>\n",
       "      <td>8.346173</td>\n",
       "      <td>98.692478</td>\n",
       "      <td>73.949115</td>\n",
       "      <td>1.730088</td>\n",
       "    </tr>\n",
       "    <tr>\n",
       "      <th>std</th>\n",
       "      <td>13.767379</td>\n",
       "      <td>17.872282</td>\n",
       "      <td>13.754578</td>\n",
       "      <td>2.829209</td>\n",
       "      <td>1.410897</td>\n",
       "      <td>8.156973</td>\n",
       "      <td>0.833169</td>\n",
       "    </tr>\n",
       "    <tr>\n",
       "      <th>min</th>\n",
       "      <td>10.000000</td>\n",
       "      <td>70.000000</td>\n",
       "      <td>49.000000</td>\n",
       "      <td>6.000000</td>\n",
       "      <td>98.000000</td>\n",
       "      <td>7.000000</td>\n",
       "      <td>1.000000</td>\n",
       "    </tr>\n",
       "    <tr>\n",
       "      <th>25%</th>\n",
       "      <td>19.000000</td>\n",
       "      <td>90.000000</td>\n",
       "      <td>65.000000</td>\n",
       "      <td>6.900000</td>\n",
       "      <td>98.000000</td>\n",
       "      <td>70.000000</td>\n",
       "      <td>1.000000</td>\n",
       "    </tr>\n",
       "    <tr>\n",
       "      <th>50%</th>\n",
       "      <td>25.000000</td>\n",
       "      <td>120.000000</td>\n",
       "      <td>80.000000</td>\n",
       "      <td>7.500000</td>\n",
       "      <td>98.000000</td>\n",
       "      <td>76.000000</td>\n",
       "      <td>1.000000</td>\n",
       "    </tr>\n",
       "    <tr>\n",
       "      <th>75%</th>\n",
       "      <td>35.000000</td>\n",
       "      <td>120.000000</td>\n",
       "      <td>86.000000</td>\n",
       "      <td>7.900000</td>\n",
       "      <td>98.000000</td>\n",
       "      <td>80.000000</td>\n",
       "      <td>2.000000</td>\n",
       "    </tr>\n",
       "    <tr>\n",
       "      <th>max</th>\n",
       "      <td>70.000000</td>\n",
       "      <td>160.000000</td>\n",
       "      <td>100.000000</td>\n",
       "      <td>19.000000</td>\n",
       "      <td>103.000000</td>\n",
       "      <td>90.000000</td>\n",
       "      <td>3.000000</td>\n",
       "    </tr>\n",
       "  </tbody>\n",
       "</table>\n",
       "</div>"
      ],
      "text/plain": [
       "              Age  SystolicBP  DiastolicBP  BloodGlucose    BodyTemp  \\\n",
       "count  452.000000  452.000000   452.000000    452.000000  452.000000   \n",
       "mean    29.194690  110.553097    75.418142      8.346173   98.692478   \n",
       "std     13.767379   17.872282    13.754578      2.829209    1.410897   \n",
       "min     10.000000   70.000000    49.000000      6.000000   98.000000   \n",
       "25%     19.000000   90.000000    65.000000      6.900000   98.000000   \n",
       "50%     25.000000  120.000000    80.000000      7.500000   98.000000   \n",
       "75%     35.000000  120.000000    86.000000      7.900000   98.000000   \n",
       "max     70.000000  160.000000   100.000000     19.000000  103.000000   \n",
       "\n",
       "        HeartRate   RiskLevel  \n",
       "count  452.000000  452.000000  \n",
       "mean    73.949115    1.730088  \n",
       "std      8.156973    0.833169  \n",
       "min      7.000000    1.000000  \n",
       "25%     70.000000    1.000000  \n",
       "50%     76.000000    1.000000  \n",
       "75%     80.000000    2.000000  \n",
       "max     90.000000    3.000000  "
      ]
     },
     "execution_count": 98,
     "metadata": {},
     "output_type": "execute_result"
    }
   ],
   "source": [
    "maternal_risk_df.describe()"
   ]
  },
  {
   "cell_type": "code",
   "execution_count": 101,
   "id": "e0983e26",
   "metadata": {},
   "outputs": [],
   "source": [
    "# calculate the correlation\n",
    "corr= maternal_risk_df.corr()"
   ]
  },
  {
   "cell_type": "code",
   "execution_count": 102,
   "id": "6043fc76",
   "metadata": {},
   "outputs": [
    {
     "data": {
      "text/html": [
       "<div>\n",
       "<style scoped>\n",
       "    .dataframe tbody tr th:only-of-type {\n",
       "        vertical-align: middle;\n",
       "    }\n",
       "\n",
       "    .dataframe tbody tr th {\n",
       "        vertical-align: top;\n",
       "    }\n",
       "\n",
       "    .dataframe thead th {\n",
       "        text-align: right;\n",
       "    }\n",
       "</style>\n",
       "<table border=\"1\" class=\"dataframe\">\n",
       "  <thead>\n",
       "    <tr style=\"text-align: right;\">\n",
       "      <th></th>\n",
       "      <th>Age</th>\n",
       "      <th>SystolicBP</th>\n",
       "      <th>DiastolicBP</th>\n",
       "      <th>BloodGlucose</th>\n",
       "      <th>BodyTemp</th>\n",
       "      <th>HeartRate</th>\n",
       "      <th>RiskLevel</th>\n",
       "    </tr>\n",
       "  </thead>\n",
       "  <tbody>\n",
       "    <tr>\n",
       "      <th>Age</th>\n",
       "      <td>1.000000</td>\n",
       "      <td>0.375931</td>\n",
       "      <td>0.347846</td>\n",
       "      <td>0.376616</td>\n",
       "      <td>-0.188843</td>\n",
       "      <td>0.077407</td>\n",
       "      <td>0.183010</td>\n",
       "    </tr>\n",
       "    <tr>\n",
       "      <th>SystolicBP</th>\n",
       "      <td>0.375931</td>\n",
       "      <td>1.000000</td>\n",
       "      <td>0.790002</td>\n",
       "      <td>0.347534</td>\n",
       "      <td>-0.207267</td>\n",
       "      <td>-0.006088</td>\n",
       "      <td>0.327365</td>\n",
       "    </tr>\n",
       "    <tr>\n",
       "      <th>DiastolicBP</th>\n",
       "      <td>0.347846</td>\n",
       "      <td>0.790002</td>\n",
       "      <td>1.000000</td>\n",
       "      <td>0.300423</td>\n",
       "      <td>-0.201992</td>\n",
       "      <td>-0.016470</td>\n",
       "      <td>0.254239</td>\n",
       "    </tr>\n",
       "    <tr>\n",
       "      <th>BloodGlucose</th>\n",
       "      <td>0.376616</td>\n",
       "      <td>0.347534</td>\n",
       "      <td>0.300423</td>\n",
       "      <td>1.000000</td>\n",
       "      <td>-0.042511</td>\n",
       "      <td>0.135605</td>\n",
       "      <td>0.548888</td>\n",
       "    </tr>\n",
       "    <tr>\n",
       "      <th>BodyTemp</th>\n",
       "      <td>-0.188843</td>\n",
       "      <td>-0.207267</td>\n",
       "      <td>-0.201992</td>\n",
       "      <td>-0.042511</td>\n",
       "      <td>1.000000</td>\n",
       "      <td>0.087262</td>\n",
       "      <td>0.259701</td>\n",
       "    </tr>\n",
       "    <tr>\n",
       "      <th>HeartRate</th>\n",
       "      <td>0.077407</td>\n",
       "      <td>-0.006088</td>\n",
       "      <td>-0.016470</td>\n",
       "      <td>0.135605</td>\n",
       "      <td>0.087262</td>\n",
       "      <td>1.000000</td>\n",
       "      <td>0.183289</td>\n",
       "    </tr>\n",
       "    <tr>\n",
       "      <th>RiskLevel</th>\n",
       "      <td>0.183010</td>\n",
       "      <td>0.327365</td>\n",
       "      <td>0.254239</td>\n",
       "      <td>0.548888</td>\n",
       "      <td>0.259701</td>\n",
       "      <td>0.183289</td>\n",
       "      <td>1.000000</td>\n",
       "    </tr>\n",
       "  </tbody>\n",
       "</table>\n",
       "</div>"
      ],
      "text/plain": [
       "                   Age  SystolicBP  DiastolicBP  BloodGlucose  BodyTemp  \\\n",
       "Age           1.000000    0.375931     0.347846      0.376616 -0.188843   \n",
       "SystolicBP    0.375931    1.000000     0.790002      0.347534 -0.207267   \n",
       "DiastolicBP   0.347846    0.790002     1.000000      0.300423 -0.201992   \n",
       "BloodGlucose  0.376616    0.347534     0.300423      1.000000 -0.042511   \n",
       "BodyTemp     -0.188843   -0.207267    -0.201992     -0.042511  1.000000   \n",
       "HeartRate     0.077407   -0.006088    -0.016470      0.135605  0.087262   \n",
       "RiskLevel     0.183010    0.327365     0.254239      0.548888  0.259701   \n",
       "\n",
       "              HeartRate  RiskLevel  \n",
       "Age            0.077407   0.183010  \n",
       "SystolicBP    -0.006088   0.327365  \n",
       "DiastolicBP   -0.016470   0.254239  \n",
       "BloodGlucose   0.135605   0.548888  \n",
       "BodyTemp       0.087262   0.259701  \n",
       "HeartRate      1.000000   0.183289  \n",
       "RiskLevel      0.183289   1.000000  "
      ]
     },
     "execution_count": 102,
     "metadata": {},
     "output_type": "execute_result"
    }
   ],
   "source": [
    "corr"
   ]
  },
  {
   "cell_type": "code",
   "execution_count": 103,
   "id": "f4a51a6a",
   "metadata": {},
   "outputs": [
    {
     "data": {
      "text/plain": [
       "<AxesSubplot:>"
      ]
     },
     "execution_count": 103,
     "metadata": {},
     "output_type": "execute_result"
    },
    {
     "data": {
      "image/png": "[encoded data removed]",
      "text/plain": [
       "<Figure size 432x288 with 2 Axes>"
      ]
     },
     "metadata": {
      "needs_background": "light"
     },
     "output_type": "display_data"
    }
   ],
   "source": [
    "# use heatmap to plot\n",
    "sns.heatmap(corr)"
   ]
  },
  {
   "cell_type": "code",
   "execution_count": 104,
   "id": "29c2a6cd",
   "metadata": {},
   "outputs": [
    {
     "data": {
      "text/plain": [
       "<AxesSubplot:>"
      ]
     },
     "execution_count": 104,
     "metadata": {},
     "output_type": "execute_result"
    },
    {
     "data": {
      "image/png": "[encoded data removed]",
      "text/plain": [
       "<Figure size 432x288 with 2 Axes>"
      ]
     },
     "metadata": {
      "needs_background": "light"
     },
     "output_type": "display_data"
    }
   ],
   "source": [
    "# add some preramaters \n",
    "sns.heatmap(corr, cmap = 'RdBu', vmin=-1, vmax=1, annot=True)\n",
    "# from the map we can see that the strongest correction with risklevel is bloodglucose, followed by systolic BP,bodytemp,and diastolicBP,age and heartrate holds the same correlation with risklevel"
   ]
  },
  {
   "cell_type": "code",
   "execution_count": 107,
   "id": "2d4fcc7a",
   "metadata": {},
   "outputs": [
    {
     "data": {
      "text/html": [
       "<div>\n",
       "<style scoped>\n",
       "    .dataframe tbody tr th:only-of-type {\n",
       "        vertical-align: middle;\n",
       "    }\n",
       "\n",
       "    .dataframe tbody tr th {\n",
       "        vertical-align: top;\n",
       "    }\n",
       "\n",
       "    .dataframe thead th {\n",
       "        text-align: right;\n",
       "    }\n",
       "</style>\n",
       "<table border=\"1\" class=\"dataframe\">\n",
       "  <thead>\n",
       "    <tr style=\"text-align: right;\">\n",
       "      <th></th>\n",
       "      <th>RiskLevel</th>\n",
       "      <th>BloodGlucose</th>\n",
       "    </tr>\n",
       "  </thead>\n",
       "  <tbody>\n",
       "    <tr>\n",
       "      <th>RiskLevel</th>\n",
       "      <td>1.000000</td>\n",
       "      <td>0.548888</td>\n",
       "    </tr>\n",
       "    <tr>\n",
       "      <th>BloodGlucose</th>\n",
       "      <td>0.548888</td>\n",
       "      <td>1.000000</td>\n",
       "    </tr>\n",
       "  </tbody>\n",
       "</table>\n",
       "</div>"
      ],
      "text/plain": [
       "              RiskLevel  BloodGlucose\n",
       "RiskLevel      1.000000      0.548888\n",
       "BloodGlucose   0.548888      1.000000"
      ]
     },
     "execution_count": 107,
     "metadata": {},
     "output_type": "execute_result"
    }
   ],
   "source": [
    "# view the correlation seperately see the highest correlation variable of bloodglucose \n",
    "maternal_risk_df[['RiskLevel','BloodGlucose']].corr()"
   ]
  },
  {
   "cell_type": "code",
   "execution_count": 115,
   "id": "61fb603e",
   "metadata": {},
   "outputs": [
    {
     "data": {
      "text/html": [
       "<div>\n",
       "<style scoped>\n",
       "    .dataframe tbody tr th:only-of-type {\n",
       "        vertical-align: middle;\n",
       "    }\n",
       "\n",
       "    .dataframe tbody tr th {\n",
       "        vertical-align: top;\n",
       "    }\n",
       "\n",
       "    .dataframe thead th {\n",
       "        text-align: right;\n",
       "    }\n",
       "</style>\n",
       "<table border=\"1\" class=\"dataframe\">\n",
       "  <thead>\n",
       "    <tr style=\"text-align: right;\">\n",
       "      <th></th>\n",
       "      <th>RiskLevel</th>\n",
       "      <th>SystolicBP</th>\n",
       "    </tr>\n",
       "  </thead>\n",
       "  <tbody>\n",
       "    <tr>\n",
       "      <th>RiskLevel</th>\n",
       "      <td>1.000000</td>\n",
       "      <td>0.327365</td>\n",
       "    </tr>\n",
       "    <tr>\n",
       "      <th>SystolicBP</th>\n",
       "      <td>0.327365</td>\n",
       "      <td>1.000000</td>\n",
       "    </tr>\n",
       "  </tbody>\n",
       "</table>\n",
       "</div>"
      ],
      "text/plain": [
       "            RiskLevel  SystolicBP\n",
       "RiskLevel    1.000000    0.327365\n",
       "SystolicBP   0.327365    1.000000"
      ]
     },
     "execution_count": 115,
     "metadata": {},
     "output_type": "execute_result"
    }
   ],
   "source": [
    "#view the correlation seperately see other variables\n",
    "maternal_risk_df[['RiskLevel','SystolicBP']].corr()"
   ]
  },
  {
   "cell_type": "markdown",
   "id": "4af7b301",
   "metadata": {},
   "source": [
    "Machine learning analysis"
   ]
  },
  {
   "cell_type": "markdown",
   "id": "cfffb453",
   "metadata": {},
   "source": [
    "#statistical measures about the data\n",
    "maternal_risk_df.describe()"
   ]
  },
  {
   "cell_type": "code",
   "execution_count": 6,
   "id": "231d30a3",
   "metadata": {},
   "outputs": [
    {
     "data": {
      "text/plain": [
       "Age             0\n",
       "SystolicBP      0\n",
       "DiastolicBP     0\n",
       "BloodGlucose    0\n",
       "BodyTemp        0\n",
       "HeartRate       0\n",
       "RiskLevel       0\n",
       "dtype: int64"
      ]
     },
     "execution_count": 6,
     "metadata": {},
     "output_type": "execute_result"
    }
   ],
   "source": [
    "# checking for missing value\n",
    "maternal_risk_df.isnull().sum()"
   ]
  },
  {
   "cell_type": "code",
   "execution_count": 8,
   "id": "2e299a78",
   "metadata": {},
   "outputs": [
    {
     "data": {
      "text/plain": [
       "(1014, 7)"
      ]
     },
     "execution_count": 8,
     "metadata": {},
     "output_type": "execute_result"
    }
   ],
   "source": [
    "# checking numbers of rows and columns of the dataset\n",
    "maternal_risk_df.shape"
   ]
  },
  {
   "cell_type": "code",
   "execution_count": 9,
   "id": "1c07742c",
   "metadata": {},
   "outputs": [
    {
     "data": {
      "text/plain": [
       "1    406\n",
       "2    336\n",
       "3    272\n",
       "Name: RiskLevel, dtype: int64"
      ]
     },
     "execution_count": 9,
     "metadata": {},
     "output_type": "execute_result"
    }
   ],
   "source": [
    "#checking the distribution of the target variable\n",
    "maternal_risk_df['RiskLevel'].value_counts()"
   ]
  },
  {
   "cell_type": "raw",
   "id": "35099133",
   "metadata": {},
   "source": [
    "1-- low\n",
    "2-- mid\n",
    "3-- high"
   ]
  },
  {
   "cell_type": "markdown",
   "id": "01b5f2eb",
   "metadata": {},
   "source": [
    "splitting the features and target"
   ]
  },
  {
   "cell_type": "code",
   "execution_count": 11,
   "id": "c3e2afc7",
   "metadata": {},
   "outputs": [],
   "source": [
    "x= maternal_risk_df.drop(columns='RiskLevel',axis=1)\n",
    "y= maternal_risk_df['RiskLevel']"
   ]
  },
  {
   "cell_type": "code",
   "execution_count": 12,
   "id": "66259544",
   "metadata": {},
   "outputs": [
    {
     "name": "stdout",
     "output_type": "stream",
     "text": [
      "      Age  SystolicBP  DiastolicBP  BloodGlucose  BodyTemp  HeartRate\n",
      "0      25         130           80          15.0      98.0         86\n",
      "1      35         140           90          13.0      98.0         70\n",
      "2      29          90           70           8.0     100.0         80\n",
      "3      30         140           85           7.0      98.0         70\n",
      "4      35         120           60           6.1      98.0         76\n",
      "...   ...         ...          ...           ...       ...        ...\n",
      "1009   22         120           60          15.0      98.0         80\n",
      "1010   55         120           90          18.0      98.0         60\n",
      "1011   35          85           60          19.0      98.0         86\n",
      "1012   43         120           90          18.0      98.0         70\n",
      "1013   32         120           65           6.0     101.0         76\n",
      "\n",
      "[1014 rows x 6 columns]\n"
     ]
    }
   ],
   "source": [
    "print(x)"
   ]
  },
  {
   "cell_type": "code",
   "execution_count": 20,
   "id": "326513d0",
   "metadata": {},
   "outputs": [
    {
     "name": "stdout",
     "output_type": "stream",
     "text": [
      "0       3\n",
      "1       3\n",
      "2       3\n",
      "3       3\n",
      "4       1\n",
      "       ..\n",
      "1009    3\n",
      "1010    3\n",
      "1011    3\n",
      "1012    3\n",
      "1013    2\n",
      "Name: RiskLevel, Length: 1014, dtype: int64\n"
     ]
    }
   ],
   "source": [
    "print(y)"
   ]
  },
  {
   "cell_type": "code",
   "execution_count": 23,
   "id": "77bf4d8e",
   "metadata": {},
   "outputs": [],
   "source": [
    "x_train,x_test,y_train,y_test = train_test_split (x,y,test_size=0.2,stratify=y, random_state =2)"
   ]
  },
  {
   "cell_type": "code",
   "execution_count": 25,
   "id": "7bb0bcd9",
   "metadata": {},
   "outputs": [
    {
     "name": "stdout",
     "output_type": "stream",
     "text": [
      "(1014, 6) (811, 6) (203, 6)\n"
     ]
    }
   ],
   "source": [
    "print (x.shape,x_train.shape,x_test.shape)"
   ]
  },
  {
   "cell_type": "markdown",
   "id": "afa07d3f",
   "metadata": {},
   "source": [
    "Model Training \n",
    "\n",
    "Logistic regression "
   ]
  },
  {
   "cell_type": "code",
   "execution_count": 27,
   "id": "f60592a2",
   "metadata": {},
   "outputs": [],
   "source": [
    "model = LogisticRegression()"
   ]
  },
  {
   "cell_type": "code",
   "execution_count": 28,
   "id": "e9f89010",
   "metadata": {},
   "outputs": [
    {
     "name": "stderr",
     "output_type": "stream",
     "text": [
      "C:\\Anaconda\\lib\\site-packages\\sklearn\\linear_model\\_logistic.py:814: ConvergenceWarning: lbfgs failed to converge (status=1):\n",
      "STOP: TOTAL NO. of ITERATIONS REACHED LIMIT.\n",
      "\n",
      "Increase the number of iterations (max_iter) or scale the data as shown in:\n",
      "    https://scikit-learn.org/stable/modules/preprocessing.html\n",
      "Please also refer to the documentation for alternative solver options:\n",
      "    https://scikit-learn.org/stable/modules/linear_model.html#logistic-regression\n",
      "  n_iter_i = _check_optimize_result(\n"
     ]
    },
    {
     "data": {
      "text/plain": [
       "LogisticRegression()"
      ]
     },
     "execution_count": 28,
     "metadata": {},
     "output_type": "execute_result"
    }
   ],
   "source": [
    "# training the LogisticRegression model with Training data\n",
    "model.fit(x_train,y_train)"
   ]
  },
  {
   "cell_type": "markdown",
   "id": "93d39f37",
   "metadata": {},
   "source": [
    "Model evaluation  Accuracy score"
   ]
  },
  {
   "cell_type": "code",
   "execution_count": 29,
   "id": "3cc01c23",
   "metadata": {},
   "outputs": [],
   "source": [
    "# accuracy on the training data\n",
    "x_train_prediction = model.predict(x_train)\n",
    "training_data_accuracy = accuracy_score(x_train_prediction,y_train)"
   ]
  },
  {
   "cell_type": "code",
   "execution_count": 30,
   "id": "3bbbc6ea",
   "metadata": {},
   "outputs": [
    {
     "name": "stdout",
     "output_type": "stream",
     "text": [
      "Accuracy on Training data: 0.5980271270036991\n"
     ]
    }
   ],
   "source": [
    "print('Accuracy on Training data:', training_data_accuracy)"
   ]
  },
  {
   "cell_type": "code",
   "execution_count": 31,
   "id": "95f84091",
   "metadata": {},
   "outputs": [],
   "source": [
    "# accuracy on the test data\n",
    "x_test_prediction = model.predict(x_test)\n",
    "test_data_accuracy = accuracy_score(x_test_prediction,y_test)"
   ]
  },
  {
   "cell_type": "code",
   "execution_count": 32,
   "id": "fbc47351",
   "metadata": {},
   "outputs": [
    {
     "name": "stdout",
     "output_type": "stream",
     "text": [
      "Accuracy on Test data: 0.5665024630541872\n"
     ]
    }
   ],
   "source": [
    "print('Accuracy on Test data:', test_data_accuracy)"
   ]
  },
  {
   "cell_type": "code",
   "execution_count": 36,
   "id": "fb661466",
   "metadata": {},
   "outputs": [
    {
     "name": "stdout",
     "output_type": "stream",
     "text": [
      "[3]\n",
      "persion has high risk\n"
     ]
    },
    {
     "name": "stderr",
     "output_type": "stream",
     "text": [
      "C:\\Anaconda\\lib\\site-packages\\sklearn\\base.py:450: UserWarning: X does not have valid feature names, but LogisticRegression was fitted with feature names\n",
      "  warnings.warn(\n"
     ]
    }
   ],
   "source": [
    "input_data = (25,140,100,7.01,98,80)\n",
    "# change the input data to a numpy array\n",
    "input_data_as_numpy_array = np.asarray(input_data)\n",
    "# reshape the numpy array as we are predicting for only one instance\n",
    "input_data_reshaped = input_data_as_numpy_array.reshape(1,-1)\n",
    "\n",
    "prediction = model. predict (input_data_reshaped)\n",
    "\n",
    "print(prediction)\n",
    "\n",
    "# use if function to predict the exact outcome\n",
    "if (prediction[0] == 1):\n",
    "    print('person has low risk')\n",
    "    if (prediction[0] == 2):\n",
    "        print('person has mid risk')\n",
    "else:\n",
    "    print ('persion has high risk')"
   ]
  },
  {
   "cell_type": "code",
   "execution_count": null,
   "id": "22b63a72",
   "metadata": {},
   "outputs": [],
   "source": []
  }
 ],
 "metadata": {
  "kernelspec": {
   "display_name": "Python 3 (ipykernel)",
   "language": "python",
   "name": "python3"
  },
  "language_info": {
   "codemirror_mode": {
    "name": "ipython",
    "version": 3
   },
   "file_extension": ".py",
   "mimetype": "text/x-python",
   "name": "python",
   "nbconvert_exporter": "python",
   "pygments_lexer": "ipython3",
   "version": "3.9.12"
  }
 },
 "nbformat": 4,
 "nbformat_minor": 5
}
